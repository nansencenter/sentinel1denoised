{
 "cells": [
  {
   "cell_type": "code",
   "execution_count": 1,
   "metadata": {},
   "outputs": [],
   "source": [
    "# Modified: 25/10/2020 by DD\n",
    "#\n",
    "# In this quick start practical tutorial, you will learn how to get the noise scaling factors from\n",
    "# a number of S1 Level-1 GRD training files.\n",
    "# The processing comprises two stages. 1st is related to the method called 'experiment_noiseScaling'\n",
    "# of the 'Sentinel1Image' class to obtain statistics for each individual training file.\n",
    "# The aggregated statistics processing is the second stage of the method and implemnted as a\n",
    "# python script called 'analyze_experiment_noiseScalingParameters.py'.\n",
    "# In this tutorial we follow the mentioned implementation almost line by line."
   ]
  },
  {
   "cell_type": "code",
   "execution_count": 2,
   "metadata": {},
   "outputs": [],
   "source": [
    "# Pre-requerments: It is assumed that you have downloaded and installed Sentinel1Denoised package:\n",
    "# https://github.com/nansencenter/sentinel1denoised/tree/master"
   ]
  },
  {
   "cell_type": "code",
   "execution_count": 3,
   "metadata": {},
   "outputs": [],
   "source": [
    "########################################################################\n",
    "# Stage 1. Processing of individual training files (S1 Level-1 GRD)    #\n",
    "########################################################################"
   ]
  },
  {
   "cell_type": "code",
   "execution_count": 17,
   "metadata": {},
   "outputs": [
    {
     "name": "stderr",
     "output_type": "stream",
     "text": [
      "01:16:27|40|nansat|_get_dataset_metadata|GDAL could not open /mnt/sverdrup-2/sat_auxdata/denoise/dolldrums/zip/S1A_IW_GRDH_1SDV_20200607T075151_20200607T075220_032908_03CFD7_9E14.zip, trying to read with Nansat mappers...\n"
     ]
    }
   ],
   "source": [
    "# First you need to import Sentinel1Image class and open \n",
    "# a S1 Level1 GRD file (IW GRDH in our case, replace with yours)\n",
    "# Note: In our example we process the only one training file but in real data processing you need to use tens of files\n",
    "# in batch manner\n",
    "\n",
    "from s1denoise import Sentinel1Image\n",
    "import numpy as np\n",
    "from scipy.optimize import fminbound\n",
    "s1 = Sentinel1Image('/mnt/sverdrup-2/sat_auxdata/denoise/dolldrums/zip/S1A_IW_GRDH_1SDV_20200607T075151_20200607T075220_032908_03CFD7_9E14.zip')"
   ]
  },
  {
   "cell_type": "code",
   "execution_count": 8,
   "metadata": {},
   "outputs": [],
   "source": [
    "# We further go almost in line by line manner through the method called 'experiment_noiseScaling'"
   ]
  },
  {
   "cell_type": "code",
   "execution_count": 5,
   "metadata": {},
   "outputs": [],
   "source": [
    "# Clip size of side pixels, ~1km\n",
    "cPx = {'IW':100, 'EW':25}[s1.obsMode]\n",
    "# Define polarization of the data we want to process\n",
    "polarization = 'VH'"
   ]
  },
  {
   "cell_type": "code",
   "execution_count": 81,
   "metadata": {},
   "outputs": [],
   "source": [
    "# Call 'subswathIndexMap' method to get matrix with sub-swath numbers consistent with the data grid\n",
    "subswathIndexMap = s1.subswathIndexMap(polarization)"
   ]
  },
  {
   "cell_type": "code",
   "execution_count": 82,
   "metadata": {},
   "outputs": [
    {
     "data": {
      "text/plain": [
       "array([[1, 1, 1, ..., 0, 0, 0],\n",
       "       [1, 1, 1, ..., 0, 0, 0],\n",
       "       [1, 1, 1, ..., 0, 0, 0],\n",
       "       ...,\n",
       "       [1, 1, 1, ..., 3, 3, 3],\n",
       "       [1, 1, 1, ..., 3, 3, 3],\n",
       "       [1, 1, 1, ..., 3, 3, 3]], dtype=uint8)"
      ]
     },
     "execution_count": 82,
     "metadata": {},
     "output_type": "execute_result"
    }
   ],
   "source": [
    "# Print out the matrix\n",
    "subswathIndexMap"
   ]
  },
  {
   "cell_type": "code",
   "execution_count": 83,
   "metadata": {},
   "outputs": [
    {
     "data": {
      "text/plain": [
       "<matplotlib.image.AxesImage at 0x7f4aa8ace7d0>"
      ]
     },
     "execution_count": 83,
     "metadata": {},
     "output_type": "execute_result"
    },
    {
     "data": {
      "image/png": "[encoded data removed]",
      "text/plain": [
       "<Figure size 432x288 with 1 Axes>"
      ]
     },
     "metadata": {
      "needs_background": "light"
     },
     "output_type": "display_data"
    }
   ],
   "source": [
    "# Lets visualize the sub-swath numbers\n",
    "# Color corresponds to different sub-swath. In our case:\n",
    "# blue - 1, green - 2, yellow - 3, black - no data\n",
    "import matplotlib.pyplot as plt\n",
    "plt.clf()\n",
    "plt.imshow(subswathIndexMap)"
   ]
  },
  {
   "cell_type": "code",
   "execution_count": 8,
   "metadata": {},
   "outputs": [],
   "source": [
    "# To mask areas over land, we call 'landmask'\n",
    "landmask = s1.landmask(skipGCP=4)"
   ]
  },
  {
   "cell_type": "code",
   "execution_count": 10,
   "metadata": {},
   "outputs": [],
   "source": [
    "# Get matrices of calibrated raw sigma zero and NESZ from ESA-provided annotaion files\n",
    "sigma0 = s1.rawSigma0Map(polarization)\n",
    "noiseEquivalentSigma0 = s1.rawNoiseEquivalentSigma0Map(polarization, lutShift=True)    "
   ]
  },
  {
   "cell_type": "code",
   "execution_count": 11,
   "metadata": {},
   "outputs": [],
   "source": [
    "# Get the line indexes where we have data for the each element in range ditrection\n",
    "import numpy as np\n",
    "validLineIndices = np.argwhere(np.sum(subswathIndexMap!=0,axis=1)==s1.shape()[1])"
   ]
  },
  {
   "cell_type": "code",
   "execution_count": 12,
   "metadata": {},
   "outputs": [],
   "source": [
    "# Define number of lines to averge (block height), in our case 1000 px\n",
    "# and calculate the block bounds\n",
    "numberOfLinesToAverage = 1000\n",
    "blockBounds = np.arange(validLineIndices.min(), validLineIndices.max(),\n",
    "                                numberOfLinesToAverage, dtype='uint')"
   ]
  },
  {
   "cell_type": "code",
   "execution_count": 13,
   "metadata": {},
   "outputs": [
    {
     "data": {
      "text/plain": [
       "array([ 1367,  2367,  3367,  4367,  5367,  6367,  7367,  8367,  9367,\n",
       "       10367, 11367, 12367, 13367, 14367, 15367, 16367, 17367, 18367,\n",
       "       19367], dtype=uint64)"
      ]
     },
     "execution_count": 13,
     "metadata": {},
     "output_type": "execute_result"
    }
   ],
   "source": [
    "# Print out block bounds coordinates (pixel indexes)\n",
    "blockBounds"
   ]
  },
  {
   "cell_type": "code",
   "execution_count": 84,
   "metadata": {},
   "outputs": [],
   "source": [
    "# Prepare a dictonary for results for each sub-block in each sub-swath\n",
    "# sigma0 is a vector that is mean range profile\n",
    "# noiseEquivalentSigma0 is a vector with ESA-provided mean range noise profile\n",
    "# scalingFactor is a value with intermediate noise scaling factor\n",
    "# correlationCoefficient is a value with correlation coefficient between raw sigma0 and scaled nosie\n",
    "# fitResidual is a value with error of fitting of the seclected scaling factor (K)\n",
    "results = { '%s%s' % (s1.obsMode, li):\n",
    "                        { 'sigma0':[],\n",
    "                          'noiseEquivalentSigma0':[],\n",
    "                          'scalingFactor':[],\n",
    "                          'correlationCoefficient':[],\n",
    "                          'fitResidual':[] }\n",
    "                    for li in range(1, {'IW':3, 'EW':5}[s1.obsMode]+1) }"
   ]
  },
  {
   "cell_type": "code",
   "execution_count": 85,
   "metadata": {},
   "outputs": [],
   "source": [
    "# Loop over blocks\n",
    "for iBlk in range(len(blockBounds)-1):\n",
    "    # Check if there is no pixels over land areas\n",
    "    if landmask[blockBounds[iBlk]:blockBounds[iBlk+1]].sum() != 0:\n",
    "        continue\n",
    "    \n",
    "    # Slicing 2D arrays for each block\n",
    "    # sigma0\n",
    "    blockS0 = sigma0[blockBounds[iBlk]:blockBounds[iBlk+1],:]   \n",
    "    # raw ESA noise\n",
    "    blockN0 = noiseEquivalentSigma0[blockBounds[iBlk]:blockBounds[iBlk+1],:]\n",
    "    # Sub-swath indices for the block\n",
    "    blockSWI = subswathIndexMap[blockBounds[iBlk]:blockBounds[iBlk+1],:]\n",
    "    \n",
    "    # An arbitrary empirical adjustment.\n",
    "    # When the number of valid range pixels is too small, it is hard to get reliable estimation.\n",
    "    # By allowing the use of some pixels with negative values, the number of range pixels to be used \n",
    "    # for fitting increases.\n",
    "    # In short, it can be any value but we set it as 0.5 for no special reason.\n",
    "    pixelValidity = (np.nanmean(blockS0 - blockN0 * 0.5, axis=0) > 0) \n",
    "\n",
    "    fitCoefficients = []\n",
    "    \n",
    "    # Loop over sub-blocks in sub-swaths\n",
    "    for iSW in range(1, {'IW': 3, 'EW': 5}[s1.obsMode]+1):\n",
    "        subswathID = '%s%s' % (s1.obsMode, iSW)\n",
    "        # Get valid pixel indices based on 'pixelValidity'\n",
    "        pixelIndex = np.nonzero((blockSWI==iSW).sum(axis=0) * pixelValidity)[0][cPx:-cPx]\n",
    "        if pixelIndex.sum()==0:\n",
    "            continue\n",
    "            \n",
    "        # Compute mean range profiles for sub-block by averaging in azimuth direction\n",
    "        meanS0 = np.nanmean(np.where(blockSWI==iSW, blockS0, np.nan), axis=0)[pixelIndex]\n",
    "        meanN0 = np.nanmean(np.where(blockSWI==iSW, blockN0, np.nan), axis=0)[pixelIndex]\n",
    "        \n",
    "        # Calculate weight that is proportional to gradient of sigma0 that takes account of sigma0 varying\n",
    "        weight = abs(np.gradient(meanN0))\n",
    "        # Normilize the weight\n",
    "        weight = weight / weight.sum() * np.sqrt(len(weight))\n",
    "        \n",
    "        # Polyfit is used only to return error (second return param) when fitting func:\n",
    "        # s0-k*no = f(A*x + B). Where:\n",
    "        # s0 - sigma0\n",
    "        # n0 - ESA-provided thermal noise\n",
    "        # k - noise scaling (to be identified at later stage of fitting)\n",
    "        # x - pixel index\n",
    "        # A, B - just some polynom coeffs that are not used\n",
    "        errFunc = lambda k,x,s0,n0,w: np.polyfit(x,s0-k*n0,w=w,deg=1,full=True)[1].item()\n",
    "        \n",
    "        # Now with polynom fitting function in place, K (the noise scaling coefficient)\n",
    "        # is fitted iteratively using 'fminbound' method from NumPy for the interval of 0 to 3dB\n",
    "        scalingFactor = fminbound(errFunc, 0, 3,\n",
    "            args=(pixelIndex,meanS0,meanN0,weight), disp=False).item()\n",
    "        # Value of correlation coefficient between sigma0 and scaled noise\n",
    "        correlationCoefficient = np.corrcoef(meanS0, scalingFactor * meanN0)[0,1]\n",
    "        # Value of error of the fitting of the selected scaling factor (K)\n",
    "        fitResidual = np.polyfit(pixelIndex, meanS0 - scalingFactor * meanN0,\n",
    "                                 w=weight, deg=1, full=True)[1].item()\n",
    "\n",
    "        # Append results to the list\n",
    "        results[subswathID]['sigma0'].append(meanS0)\n",
    "        results[subswathID]['noiseEquivalentSigma0'].append(meanN0)\n",
    "        results[subswathID]['scalingFactor'].append(scalingFactor)\n",
    "        results[subswathID]['correlationCoefficient'].append(correlationCoefficient)\n",
    "        results[subswathID]['fitResidual'].append(fitResidual)\n",
    "                \n",
    "# Save the results for individual file in NPZ format\n",
    "np.savez(s1.name.split('.')[0] + '_noiseScaling.npz', **results)\n",
    "\n",
    "# At this point we obtained statistics for many files and ready to the 2nd stage that is\n",
    "# aggregated statistics processing"
   ]
  },
  {
   "cell_type": "code",
   "execution_count": null,
   "metadata": {},
   "outputs": [],
   "source": []
  },
  {
   "cell_type": "code",
   "execution_count": 86,
   "metadata": {},
   "outputs": [],
   "source": [
    "################################################\n",
    "# Stage 2. Processing of aggregated statistics #\n",
    "################################################"
   ]
  },
  {
   "cell_type": "code",
   "execution_count": 87,
   "metadata": {},
   "outputs": [],
   "source": [
    "# Once we have statistics for the training files we may start stage 2 to get final results on the noise scaling"
   ]
  },
  {
   "cell_type": "code",
   "execution_count": 89,
   "metadata": {},
   "outputs": [],
   "source": [
    "# Initialize empty lists for aggregated results for each sub-swath from each npz file\n",
    "powerDifference = {'%s%s' % (s1.obsMode, li): [] for li in range(1, ({'IW':3, 'EW':5}[s1.obsMode]+1))}\n",
    "scalingFactor = {'%s%s' % (s1.obsMode, li): [] for li in range(1, ({'IW':3, 'EW':5}[s1.obsMode]+1))}\n",
    "correlationCoefficient = {'%s%s' % (s1.obsMode, li): [] for li in range(1, ({'IW':3, 'EW':5}[s1.obsMode]+1))}\n",
    "fitResidual = {'%s%s' % (s1.obsMode, li): [] for li in range(1, ({'IW':3, 'EW':5}[s1.obsMode]+1))}"
   ]
  },
  {
   "cell_type": "code",
   "execution_count": 90,
   "metadata": {},
   "outputs": [
    {
     "name": "stdout",
     "output_type": "stream",
     "text": [
      "importing S1A_IW_GRDH_1SDV_20200607T075151_20200607T075220_032908_03CFD7_9E14_noiseScaling.npz\n"
     ]
    }
   ],
   "source": [
    "# Get the list of npz files with individual statistics\n",
    "import glob\n",
    "npzFiles = glob.glob('*noiseScaling*.npz')\n",
    "\n",
    "# Loop over the files\n",
    "for npzFile in npzFiles:\n",
    "    print('importing %s' % npzFile)\n",
    "    npz = np.load(npzFile)\n",
    "    npz.allow_pickle = True\n",
    "    \n",
    "    for iSW in range(1, ({'IW': 3, 'EW': 5}[s1.obsMode])+1):    \n",
    "        # Get number of sub-blocks\n",
    "        numberOfSubblocks = np.unique([\n",
    "                    len(npz['%s%s' % (s1.obsMode,iSW)].item()[key])\n",
    "                    for key in ['scalingFactor', 'correlationCoefficient', 'fitResidual']])\n",
    "        \n",
    "        # Check if the number of sub-blocks is consistent for all parameters\n",
    "        if numberOfSubblocks.size != 1:\n",
    "                print('*** numberOfSubblocks are not consistent for all estimations.')\n",
    "                continue\n",
    "        # Unpack the number of sub-blocks\n",
    "        numberOfSubblocks = numberOfSubblocks.item()\n",
    "        \n",
    "        # Calculate a value of intermediate sigma0 value for each sub-block\n",
    "        powerDifference['%s%s' % (s1.obsMode,iSW)].append([\n",
    "                  np.nanmean(10*np.log10(npz['%s%s' % (s1.obsMode,iSW)].item()['sigma0'][li]))\n",
    "                - np.nanmean(10*np.log10(npz['%s%s' % (s1.obsMode,iSW)].item()['noiseEquivalentSigma0'][li]))\n",
    "                for li in range(numberOfSubblocks) ])\n",
    "        \n",
    "        # Collect a set of values of scaling factors, correlation coefficients and residuals for each sub-block\n",
    "        scalingFactor['%s%s' % (s1.obsMode,iSW)].append(npz['%s%s' % (s1.obsMode,iSW)].item()['scalingFactor'])\n",
    "        correlationCoefficient['%s%s' % (s1.obsMode,iSW)].append(npz['%s%s' % (s1.obsMode,iSW)].item()['correlationCoefficient'])\n",
    "        fitResidual['%s%s' % (s1.obsMode,iSW)].append(npz['%s%s' % (s1.obsMode,iSW)].item()['fitResidual'])"
   ]
  },
  {
   "cell_type": "code",
   "execution_count": null,
   "metadata": {},
   "outputs": [],
   "source": []
  },
  {
   "cell_type": "code",
   "execution_count": 78,
   "metadata": {},
   "outputs": [],
   "source": [
    "# Initialize lists for noise scaling parameters and their confidence intervals for final results\n",
    "noiseScalingParameters = {'%s%s' % (s1.obsMode, li): {} for li in range(1, ({'IW':3, 'EW':5}[s1.obsMode]+1))}\n",
    "noiseScalingParametersRMSE = {'%s%s' % (s1.obsMode, li): {} for li in range(1, ({'IW':3, 'EW':5}[s1.obsMode]+1))}\n",
    "\n",
    "# Loop over sub-swaths to obtain final noise scaling factors for each sub-swath\n",
    "for iSW in range(1, ({'IW': 3, 'EW': 5}[s1.obsMode])+1):   \n",
    "    # Open agregated lists of parameters as NumPy vector for sub-swath\n",
    "    # Vector of intermediate sigma0\n",
    "    pd = np.hstack(powerDifference['%s%s' % (s1.obsMode,iSW)])\n",
    "    # Vector of of noise scaling factor\n",
    "    sf = np.hstack(scalingFactor['%s%s' % (s1.obsMode,iSW)])\n",
    "    # vector of correaltion coefficient between raw sigma0 and scaled nosie\n",
    "    cc = np.hstack(correlationCoefficient['%s%s' % (s1.obsMode,iSW)])\n",
    "    # Vector of errors of fitting of the scaling factor (K)\n",
    "    fr = np.hstack(fitResidual['%s%s' % (s1.obsMode,iSW)])\n",
    "\n",
    "    # Calculate vector with weights for fitting: higher weights for high correlation and low RMSE from K-fitting\n",
    "    w = cc / fr\n",
    "    \n",
    "    # Note: Fitting of K to powerDifference with degree=0\n",
    "    # Here we find optimal value of K (just one value since degree of fitted polynom is 0).\n",
    "    # That optimal value corresponds to:\n",
    "    #  * high density of powerDifference values: This high density appears where powerDifference\n",
    "    #    is low. I.e. where signal is low (low wind conditions).\n",
    "    #  * high weights: where correlation is high and rmse is low\n",
    "    # y using this fitting we avoid neccesity to choose scenes with low wind manualy.\n",
    "    fitResults = np.polyfit(pd, sf, deg=0, w=w)\n",
    "\n",
    "    # Results\n",
    "    # Noise scaling coefficient\n",
    "    noiseScalingParameters['%s%s' % (s1.obsMode,iSW)] = fitResults[0]\n",
    "    # Confidence interval\n",
    "    noiseScalingParametersRMSE['%s%s' % (s1.obsMode,iSW)] = np.sqrt(np.sum((fitResults[0]-sf)**2 * w) / np.sum(w))"
   ]
  },
  {
   "cell_type": "code",
   "execution_count": 99,
   "metadata": {},
   "outputs": [
    {
     "name": "stdout",
     "output_type": "stream",
     "text": [
      "Noise scaling parameters for each sub-swath:\n",
      "{'IW1': 1.0525003487515774, 'IW2': 1.003359997763131, 'IW3': 1.0945965379679081}\n",
      "\n",
      "Confidence intervals:\n",
      "{'IW1': 0.03060775683092379, 'IW2': 0.00967053603311147, 'IW3': 0.009314693037954078}\n"
     ]
    }
   ],
   "source": [
    "# Now we obtained noise scaling factors for each sub-swath as well as\n",
    "# their confident intervals and may print it out\n",
    "\n",
    "print('Noise scaling parameters for each sub-swath:\\n%s' % noiseScalingParameters)\n",
    "print('\\nConfidence intervals:\\n%s' % noiseScalingParametersRMSE)"
   ]
  },
  {
   "cell_type": "code",
   "execution_count": null,
   "metadata": {},
   "outputs": [],
   "source": [
    "\n"
   ]
  }
 ],
 "metadata": {
  "kernelspec": {
   "display_name": "Python 3",
   "language": "python",
   "name": "python3"
  },
  "language_info": {
   "codemirror_mode": {
    "name": "ipython",
    "version": 3
   },
   "file_extension": ".py",
   "mimetype": "text/x-python",
   "name": "python",
   "nbconvert_exporter": "python",
   "pygments_lexer": "ipython3",
   "version": "3.7.6"
  }
 },
 "nbformat": 4,
 "nbformat_minor": 4
}
